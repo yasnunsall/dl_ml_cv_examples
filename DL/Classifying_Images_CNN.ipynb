{
  "nbformat": 4,
  "nbformat_minor": 0,
  "metadata": {
    "colab": {
      "provenance": []
    },
    "kernelspec": {
      "name": "python3",
      "display_name": "Python 3"
    },
    "language_info": {
      "name": "python"
    }
  },
  "cells": [
    {
      "cell_type": "code",
      "execution_count": null,
      "metadata": {
        "colab": {
          "base_uri": "https://localhost:8080/"
        },
        "id": "Gqxy-hvSjeui",
        "outputId": "165acc14-c43e-4f15-d864-b58f0c12c5a4"
      },
      "outputs": [
        {
          "output_type": "stream",
          "name": "stdout",
          "text": [
            "Conv1d implemantation:  [ 5. 14. 16. 26. 24. 34. 19. 22.]\n",
            "Numpy results:  [ 5 14 16 26 24 34 19 22]\n"
          ]
        }
      ],
      "source": [
        "import numpy as np\n",
        "\n",
        "def conv1d(x, w, p=0, s=1):\n",
        "  w_rot = np.array(w[::-1])\n",
        "  x_padded = np.array(x)\n",
        "  if p>0:\n",
        "    zero_pad = np.zeros(shape=p)\n",
        "    x_padded = np.concatenate([\n",
        "        zero_pad, x_padded, zero_pad\n",
        "    ])\n",
        "  res = []\n",
        "  for i in range(0, int(len(x_padded) - len(w_rot)) + 1, s):\n",
        "    res.append(np.sum(x_padded[i:i+w_rot.shape[0]]*w_rot))\n",
        "  return np.array(res)\n",
        "\n",
        "#testing\n",
        "x = [1,3,2,4,5,6,1,3]\n",
        "w = [1,0,3,1,2]\n",
        "print(\"Conv1d implemantation: \",\n",
        "      conv1d(x, w, p=2, s=1))\n",
        "print(\"Numpy results: \",\n",
        "      np.convolve(x,w,mode=\"same\"))"
      ]
    },
    {
      "cell_type": "code",
      "source": [
        "import numpy as np\n",
        "import scipy.signal\n",
        "\n",
        "def conv2d(X, W, p=(0,0), s=(1,1)):\n",
        "  W_rot = np.array(W)[::-1, ::-1]\n",
        "  X_orig = np.array(X)\n",
        "  n1 = X_orig.shape[0] + 2*p[0]\n",
        "  n2 = X_orig.shape[1] * 2*p[1]\n",
        "  X_padded = np.zeros(shape=(n1,n2))\n",
        "  X_padded[p[0]:p[0]+X_orig.shape[0],\n",
        "           p[1]:p[1]+X_orig.shape[1]] = X_orig\n",
        "\n",
        "  res = []\n",
        "  for i in range(0, int((X_padded.shape[0]-W_rot.shape[0])/s[0])+1, s[0]):\n",
        "    res.append([])\n",
        "    for j in range(0, int((X_padded.shape[1]-W_rot.shape[1])/s[1])+1, s[1]):\n",
        "      X_sub = X_padded[i:i+W_rot.shape[0],\n",
        "                       j:j+W_rot.shape[1]]\n",
        "      res[-1].append(np.sum(X_sub * W_rot))\n",
        "  return (np.array(res))\n",
        "\n",
        "X = [[1, 3, 2, 4], [5, 6, 1, 3], [1, 2, 0, 2], [3, 4, 3, 2]]\n",
        "W = [[1, 0, 3], [1, 2, 1], [0, 1, 1]]\n",
        "\n",
        "conv2d(X, W, p=(1,1), s=(1,1))"
      ],
      "metadata": {
        "colab": {
          "base_uri": "https://localhost:8080/"
        },
        "id": "DZjS5LNjv3AD",
        "outputId": "825018c2-710b-4798-97c7-3dd44cbffa2e"
      },
      "execution_count": null,
      "outputs": [
        {
          "output_type": "execute_result",
          "data": {
            "text/plain": [
              "array([[11., 25., 32., 13., 13.,  0.],\n",
              "       [19., 25., 24., 13., 13.,  0.],\n",
              "       [13., 28., 25., 17., 11.,  0.],\n",
              "       [11., 17., 14.,  9.,  4.,  0.]])"
            ]
          },
          "metadata": {},
          "execution_count": 6
        }
      ]
    },
    {
      "cell_type": "code",
      "source": [
        "import torch\n",
        "from torchvision.io import read_image"
      ],
      "metadata": {
        "id": "4if7CgN95uW0"
      },
      "execution_count": null,
      "outputs": []
    },
    {
      "cell_type": "code",
      "source": [
        "import torch.nn as nn\n",
        "\n",
        "loss_func = nn.BCELoss()\n",
        "loss = loss_func(torch.tensor([.9]), torch.tensor([1.0]))\n",
        "l2_lambda = .001\n",
        "conv_layer = nn.Conv2d(in_channels=3,\n",
        "                       out_channels=5,\n",
        "                       kernel_size=5)\n",
        "l2_penalty = l2_lambda * sum([(p**2).sum() for p in conv_layer.parameters()])\n",
        "loss_with_penalty = loss + l2_penalty\n",
        "linear_layer = nn.Linear(10, 16)\n",
        "l2_penalty = l2_lambda * sum([(p**2).sum() for p in linear_layer.parameters()])\n",
        "loss_with_penalty = loss + l2_penalty\n",
        "\n",
        "\"\"\"\n",
        "An alternative way to use L2 regularization\n",
        "optimizer = torch.optim.SGD(\n",
        " model.parameters(),\n",
        " weight_decay=l2_lambda,\n",
        " ...\n",
        ")\"\"\""
      ],
      "metadata": {
        "id": "_WB2vV2Y7jJj",
        "colab": {
          "base_uri": "https://localhost:8080/",
          "height": 53
        },
        "outputId": "bc14f94e-6d6c-43e0-8484-7e1e4331fb20"
      },
      "execution_count": null,
      "outputs": [
        {
          "output_type": "execute_result",
          "data": {
            "text/plain": [
              "'\\nAn alternative way to use L2 regularization\\noptimizer = torch.optim.SGD(\\n model.parameters(),\\n weight_decay=l2_lambda,\\n ...\\n)'"
            ],
            "application/vnd.google.colaboratory.intrinsic+json": {
              "type": "string"
            }
          },
          "metadata": {},
          "execution_count": 8
        }
      ]
    },
    {
      "cell_type": "code",
      "source": [
        "import torchvision\n",
        "from torchvision import transforms\n",
        "image_path = \"./\"\n",
        "transform = transforms.Compose([\n",
        "    transforms.ToTensor()\n",
        "])\n",
        "mnist_dataset = torchvision.datasets.MNIST(\n",
        "    root=image_path, train=True,\n",
        "    transform=transform, download=True\n",
        ")\n",
        "\n",
        "from torch.utils.data import Subset\n",
        "mnist_valid_dataset = Subset(mnist_dataset,\n",
        "                             torch.arange(10000))\n",
        "mnist_train_dataset = Subset(mnist_dataset,\n",
        "                             torch.arange(\n",
        "                                10000, len(mnist_dataset)\n",
        "                             ))\n",
        "mnist_test_dataset = torchvision.datasets.MNIST(\n",
        "    root=image_path, train=False,\n",
        "    transform=transform, download=False\n",
        ")"
      ],
      "metadata": {
        "colab": {
          "base_uri": "https://localhost:8080/"
        },
        "id": "pCDyComt8uOO",
        "outputId": "67acdcbd-7862-4a28-d0a1-3322dd20b197"
      },
      "execution_count": null,
      "outputs": [
        {
          "output_type": "stream",
          "name": "stdout",
          "text": [
            "Downloading http://yann.lecun.com/exdb/mnist/train-images-idx3-ubyte.gz\n",
            "Downloading http://yann.lecun.com/exdb/mnist/train-images-idx3-ubyte.gz to ./MNIST/raw/train-images-idx3-ubyte.gz\n"
          ]
        },
        {
          "output_type": "stream",
          "name": "stderr",
          "text": [
            "100%|██████████| 9912422/9912422 [00:00<00:00, 148583915.84it/s]\n"
          ]
        },
        {
          "output_type": "stream",
          "name": "stdout",
          "text": [
            "Extracting ./MNIST/raw/train-images-idx3-ubyte.gz to ./MNIST/raw\n",
            "\n",
            "Downloading http://yann.lecun.com/exdb/mnist/train-labels-idx1-ubyte.gz\n",
            "Downloading http://yann.lecun.com/exdb/mnist/train-labels-idx1-ubyte.gz to ./MNIST/raw/train-labels-idx1-ubyte.gz\n"
          ]
        },
        {
          "output_type": "stream",
          "name": "stderr",
          "text": [
            "100%|██████████| 28881/28881 [00:00<00:00, 40772700.71it/s]\n"
          ]
        },
        {
          "output_type": "stream",
          "name": "stdout",
          "text": [
            "Extracting ./MNIST/raw/train-labels-idx1-ubyte.gz to ./MNIST/raw\n",
            "\n",
            "Downloading http://yann.lecun.com/exdb/mnist/t10k-images-idx3-ubyte.gz\n",
            "Downloading http://yann.lecun.com/exdb/mnist/t10k-images-idx3-ubyte.gz to ./MNIST/raw/t10k-images-idx3-ubyte.gz\n"
          ]
        },
        {
          "output_type": "stream",
          "name": "stderr",
          "text": [
            "100%|██████████| 1648877/1648877 [00:00<00:00, 64916003.95it/s]"
          ]
        },
        {
          "output_type": "stream",
          "name": "stdout",
          "text": [
            "Extracting ./MNIST/raw/t10k-images-idx3-ubyte.gz to ./MNIST/raw\n"
          ]
        },
        {
          "output_type": "stream",
          "name": "stderr",
          "text": [
            "\n"
          ]
        },
        {
          "output_type": "stream",
          "name": "stdout",
          "text": [
            "\n",
            "Downloading http://yann.lecun.com/exdb/mnist/t10k-labels-idx1-ubyte.gz\n",
            "Downloading http://yann.lecun.com/exdb/mnist/t10k-labels-idx1-ubyte.gz to ./MNIST/raw/t10k-labels-idx1-ubyte.gz\n"
          ]
        },
        {
          "output_type": "stream",
          "name": "stderr",
          "text": [
            "100%|██████████| 4542/4542 [00:00<00:00, 4869767.07it/s]\n"
          ]
        },
        {
          "output_type": "stream",
          "name": "stdout",
          "text": [
            "Extracting ./MNIST/raw/t10k-labels-idx1-ubyte.gz to ./MNIST/raw\n",
            "\n"
          ]
        }
      ]
    },
    {
      "cell_type": "code",
      "source": [
        "from torch.utils.data import DataLoader\n",
        "\n",
        "batch_size = 64\n",
        "torch.manual_seed(1)\n",
        "train_dl = DataLoader(mnist_train_dataset,\n",
        "                      batch_size,\n",
        "                      shuffle=True)\n",
        "valid_dl = DataLoader(mnist_valid_dataset,\n",
        "                      batch_size,\n",
        "                      shuffle=False)"
      ],
      "metadata": {
        "id": "Klr2hQEK_LYp"
      },
      "execution_count": null,
      "outputs": []
    },
    {
      "cell_type": "code",
      "source": [
        "model = nn.Sequential()\n",
        "model.add_module(\n",
        "    \"conv1\",\n",
        "    nn.Conv2d(in_channels=1, out_channels=32,\n",
        "              kernel_size=5, padding=2)\n",
        ")\n",
        "model.add_module(\"relu1\", nn.ReLU())\n",
        "model.add_module(\"pool1\", nn.MaxPool2d(kernel_size=2))\n",
        "model.add_module(\"pool2\", nn.MaxPool2d(kernel_size=2))"
      ],
      "metadata": {
        "id": "hs_d0F4C_pU2"
      },
      "execution_count": null,
      "outputs": []
    },
    {
      "cell_type": "code",
      "source": [
        "x = torch.ones((4,1,28,28))\n",
        "model(x).shape"
      ],
      "metadata": {
        "colab": {
          "base_uri": "https://localhost:8080/"
        },
        "id": "Ujl9muB8ASz8",
        "outputId": "cc2ea816-dd49-4526-ffd6-d7109a92e76c"
      },
      "execution_count": null,
      "outputs": [
        {
          "output_type": "execute_result",
          "data": {
            "text/plain": [
              "torch.Size([4, 32, 7, 7])"
            ]
          },
          "metadata": {},
          "execution_count": 29
        }
      ]
    },
    {
      "cell_type": "code",
      "source": [
        "model.add_module(\"flatten\", nn.Flatten())\n",
        "x = torch.ones((4,1,28,28))\n",
        "model(x).shape"
      ],
      "metadata": {
        "colab": {
          "base_uri": "https://localhost:8080/"
        },
        "id": "YlFILP0wAuMR",
        "outputId": "f953a040-65b2-47e5-8897-e2b7597c4d29"
      },
      "execution_count": null,
      "outputs": [
        {
          "output_type": "execute_result",
          "data": {
            "text/plain": [
              "torch.Size([4, 1568])"
            ]
          },
          "metadata": {},
          "execution_count": 30
        }
      ]
    },
    {
      "cell_type": "code",
      "source": [
        "model.add_module('fc1', nn.Linear(1568, 512))\n",
        "model.add_module('relu3', nn.ReLU())\n",
        "model.add_module('dropout', nn.Dropout(p=0.5))\n",
        "model.add_module('fc2', nn.Linear(512, 10))"
      ],
      "metadata": {
        "id": "jq6XFuEzA7bP"
      },
      "execution_count": null,
      "outputs": []
    },
    {
      "cell_type": "code",
      "source": [
        "loss_fn = nn.CrossEntropyLoss()\n",
        "optimizer = torch.optim.Adam(model.parameters(), lr=0.001)"
      ],
      "metadata": {
        "id": "3Ci0hZ2pA_4F"
      },
      "execution_count": null,
      "outputs": []
    },
    {
      "cell_type": "code",
      "source": [
        "model"
      ],
      "metadata": {
        "colab": {
          "base_uri": "https://localhost:8080/"
        },
        "id": "oYZt_lmyvqyH",
        "outputId": "652708a3-98e9-432c-fd71-b659bc0b2892"
      },
      "execution_count": null,
      "outputs": [
        {
          "output_type": "execute_result",
          "data": {
            "text/plain": [
              "Sequential(\n",
              "  (conv1): Conv2d(1, 32, kernel_size=(5, 5), stride=(1, 1), padding=(2, 2))\n",
              "  (relu1): ReLU()\n",
              "  (pool1): MaxPool2d(kernel_size=2, stride=2, padding=0, dilation=1, ceil_mode=False)\n",
              "  (pool2): MaxPool2d(kernel_size=2, stride=2, padding=0, dilation=1, ceil_mode=False)\n",
              "  (flatten): Flatten(start_dim=1, end_dim=-1)\n",
              "  (fc1): Linear(in_features=1568, out_features=512, bias=True)\n",
              "  (relu3): ReLU()\n",
              "  (dropout): Dropout(p=0.5, inplace=False)\n",
              "  (fc2): Linear(in_features=512, out_features=10, bias=True)\n",
              ")"
            ]
          },
          "metadata": {},
          "execution_count": 33
        }
      ]
    },
    {
      "cell_type": "code",
      "source": [
        "from torchvision.transforms.autoaugment import F\n",
        "def train(model, num_epochs, train_dl, valid_dl):\n",
        "  loss_hist_train = [0] * num_epochs\n",
        "  accuracy_hist_train = [0] * num_epochs\n",
        "  loss_hist_valid = [0] * num_epochs\n",
        "  accuracy_hist_valid = [0] * num_epochs\n",
        "  for epoch in range(num_epochs):\n",
        "    model.train()\n",
        "    for x_batch, y_batch in train_dl:\n",
        "      pred = model(x_batch)\n",
        "      loss = loss_fn(pred, y_batch)\n",
        "      loss.backward()\n",
        "      optimizer.step()\n",
        "      optimizer.zero_grad()\n",
        "      loss_hist_train[epoch] += loss.item()*y_batch.size(0)\n",
        "      is_correct = (torch.argmax(pred, dim=1) == y_batch).float()\n",
        "      accuracy_hist_train[epoch] += is_correct.sum()\n",
        "    loss_hist_train[epoch] /= len(train_dl.dataset)\n",
        "    accuracy_hist_train[epoch] /= len(train_dl.dataset)\n",
        "\n",
        "    model.eval()\n",
        "    with torch.no_grad():\n",
        "      for x_batch, y_batch in valid_dl:\n",
        "        pred = model(x_batch)\n",
        "        loss = loss_fn(pred, y_batch)\n",
        "        loss_hist_valid[epoch] += loss.item()*y_batch.size(0)\n",
        "        is_correct = (torch.argmax(pred, dim=1) == y_batch).float()\n",
        "        accuracy_hist_valid[epoch] += is_correct.sum()\n",
        "      loss_hist_valid[epoch] /= len(valid_dl.dataset)\n",
        "      accuracy_hist_valid[epoch] /= len(valid_dl.dataset)\n",
        "\n",
        "      print(f\"Epoch {epoch+1} accuracy: \"\n",
        "      f\"{accuracy_hist_train[epoch]:.4f} val accuracy: \"\n",
        "      f\"{accuracy_hist_valid[epoch]:.4f}\")\n",
        "\n",
        "  return loss_hist_train, loss_hist_valid, accuracy_hist_train, accuracy_hist_valid"
      ],
      "metadata": {
        "id": "Tip73fCcvsZS"
      },
      "execution_count": null,
      "outputs": []
    },
    {
      "cell_type": "code",
      "source": [
        "torch.manual_seed(1)\n",
        "num_epochs = 20\n",
        "hist = train(model, num_epochs, train_dl, valid_dl)"
      ],
      "metadata": {
        "colab": {
          "base_uri": "https://localhost:8080/"
        },
        "id": "pf7MusL5zNEC",
        "outputId": "299cb9ee-af9d-4e61-e93e-dce10554c165"
      },
      "execution_count": null,
      "outputs": [
        {
          "output_type": "stream",
          "name": "stdout",
          "text": [
            "Epoch 1 accuracy: 0.9192 val accuracy: 0.9759\n",
            "Epoch 2 accuracy: 0.9741 val accuracy: 0.9818\n",
            "Epoch 3 accuracy: 0.9811 val accuracy: 0.9860\n",
            "Epoch 4 accuracy: 0.9848 val accuracy: 0.9859\n",
            "Epoch 5 accuracy: 0.9869 val accuracy: 0.9877\n",
            "Epoch 6 accuracy: 0.9882 val accuracy: 0.9881\n",
            "Epoch 7 accuracy: 0.9899 val accuracy: 0.9876\n",
            "Epoch 8 accuracy: 0.9910 val accuracy: 0.9875\n",
            "Epoch 9 accuracy: 0.9917 val accuracy: 0.9894\n",
            "Epoch 10 accuracy: 0.9927 val accuracy: 0.9886\n",
            "Epoch 11 accuracy: 0.9935 val accuracy: 0.9893\n",
            "Epoch 12 accuracy: 0.9933 val accuracy: 0.9904\n",
            "Epoch 13 accuracy: 0.9947 val accuracy: 0.9893\n",
            "Epoch 14 accuracy: 0.9943 val accuracy: 0.9885\n",
            "Epoch 15 accuracy: 0.9955 val accuracy: 0.9894\n",
            "Epoch 16 accuracy: 0.9957 val accuracy: 0.9893\n",
            "Epoch 17 accuracy: 0.9953 val accuracy: 0.9904\n",
            "Epoch 18 accuracy: 0.9961 val accuracy: 0.9901\n",
            "Epoch 19 accuracy: 0.9959 val accuracy: 0.9898\n",
            "Epoch 20 accuracy: 0.9964 val accuracy: 0.9892\n"
          ]
        }
      ]
    },
    {
      "cell_type": "code",
      "source": [
        "import matplotlib.pyplot as plt\n",
        "\n",
        "x_arr = np.arange(len(hist[0])) + 1\n",
        "fig = plt.figure(figsize=(12, 4))\n",
        "ax = fig.add_subplot(1, 2, 1)\n",
        "ax.plot(x_arr, hist[0], \"-o\", label=\"Train Loss\")\n",
        "ax.plot(x_arr, hist[1], \"--<\", label=\"Validation Loss\")\n",
        "ax.legend(fontsize=15)\n",
        "ax = fig.add_subplot(1, 2, 2)\n",
        "ax.plot(x_arr, hist[2], \"-o\", label=\"Train Accuracy\")\n",
        "ax.plot(x_arr, hist[3], \"--<\", label=\"Validation Accuracy\")\n",
        "ax.legend(fontsize=15)\n",
        "ax.set_xlabel(\"Epoch\", size=15)\n",
        "ax.set_ylabel(\"Accuracy\", size=15)\n",
        "plt.show()"
      ],
      "metadata": {
        "colab": {
          "base_uri": "https://localhost:8080/",
          "height": 329
        },
        "id": "E05cHlE95kcg",
        "outputId": "2c451756-3675-4b6b-e2ce-f840e702f482"
      },
      "execution_count": null,
      "outputs": [
        {
          "output_type": "display_data",
          "data": {
            "text/plain": [
              "<Figure size 1200x400 with 2 Axes>"
            ],
            "image/png": "[encoded data removed]"
          },
          "metadata": {}
        }
      ]
    },
    {
      "cell_type": "code",
      "source": [
        "pred = model(mnist_test_dataset.data.unsqueeze(1) / 255.)\n",
        "is_correct = (torch.argmax(pred, dim=1) == mnist_test_dataset.targets).float()\n",
        "print(f\"Test accuracy: {is_correct.mean():.4f}\")"
      ],
      "metadata": {
        "colab": {
          "base_uri": "https://localhost:8080/"
        },
        "id": "d5pTHp827kdn",
        "outputId": "f672db74-631f-4fcf-afc3-26610e18d898"
      },
      "execution_count": null,
      "outputs": [
        {
          "output_type": "stream",
          "name": "stdout",
          "text": [
            "Test accuracy: 0.9910\n"
          ]
        }
      ]
    },
    {
      "cell_type": "code",
      "source": [
        "mnist_test_dataset.data.unsqueeze(1).shape"
      ],
      "metadata": {
        "colab": {
          "base_uri": "https://localhost:8080/"
        },
        "id": "1ZMpBgdL7oIn",
        "outputId": "c2999bd4-3eb9-4d52-d79e-eb6d57359ba3"
      },
      "execution_count": null,
      "outputs": [
        {
          "output_type": "execute_result",
          "data": {
            "text/plain": [
              "torch.Size([10000, 1, 28, 28])"
            ]
          },
          "metadata": {},
          "execution_count": 51
        }
      ]
    },
    {
      "cell_type": "code",
      "source": [
        "fig = plt.figure(figsize=(12, 4))\n",
        "for i in range(12):\n",
        "  ax = fig.add_subplot(2, 6, i+1)\n",
        "  ax.set_xticks([])\n",
        "  ax.set_yticks([])\n",
        "  img = mnist_test_dataset[i][0]\n",
        "  pred = model(img.unsqueeze(0))\n",
        "  y_pred = torch.argmax(pred, dim=1)\n",
        "  ax.imshow(img[0,:,:], cmap=\"gray_r\")\n",
        "  ax.text(0.9, 0.1, y_pred.item(),\n",
        "            size=15, color=\"blue\",\n",
        "            horizontalalignment=\"center\",\n",
        "            verticalalignment=\"center\",\n",
        "            transform=ax.transAxes)\n",
        "plt.show()"
      ],
      "metadata": {
        "colab": {
          "base_uri": "https://localhost:8080/",
          "height": 290
        },
        "id": "edGhy8088ceU",
        "outputId": "c9310d42-bf67-46b7-e81b-e45af76c12d5"
      },
      "execution_count": null,
      "outputs": [
        {
          "output_type": "display_data",
          "data": {
            "text/plain": [
              "<Figure size 1200x400 with 12 Axes>"
            ],
            "image/png": "[encoded data removed]"
          },
          "metadata": {}
        }
      ]
    }
  ]
}